{
 "cells": [
  {
   "cell_type": "code",
   "execution_count": null,
   "id": "36ec6349-ee83-44a5-859a-0f442654c6f8",
   "metadata": {},
   "outputs": [],
   "source": [
    "import datetime\n",
    "from calendar import monthrange\n",
    "from random import randrange\n",
    "from itertools import chain\n",
    "from functools import reduce\n",
    "\n",
    "from synthetic_data import generate_dataset\n",
    "from concurrent_play_calculator import maximum_plays"
   ]
  },
  {
   "cell_type": "code",
   "execution_count": null,
   "id": "5fcf8593-9e54-4256-ad0a-cc9dbe9005de",
   "metadata": {},
   "outputs": [],
   "source": [
    "n = 100\n",
    "plays = generate_dataset(n)"
   ]
  },
  {
   "cell_type": "code",
   "execution_count": null,
   "id": "b1bab57a-d56d-4b3f-adac-b92f176ca905",
   "metadata": {},
   "outputs": [],
   "source": [
    "print(\"Maximum number of concurrent plays: {}\".format(maximum_plays(plays)))"
   ]
  }
 ],
 "metadata": {
  "kernelspec": {
   "display_name": "Python 3",
   "language": "python",
   "name": "python3"
  },
  "language_info": {
   "codemirror_mode": {
    "name": "ipython",
    "version": 3
   },
   "file_extension": ".py",
   "mimetype": "text/x-python",
   "name": "python",
   "nbconvert_exporter": "python",
   "pygments_lexer": "ipython3",
   "version": "3.8.8"
  }
 },
 "nbformat": 4,
 "nbformat_minor": 5
}
