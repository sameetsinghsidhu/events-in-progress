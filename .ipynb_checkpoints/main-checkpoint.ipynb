{
 "cells": [
  {
   "cell_type": "code",
   "execution_count": 5,
   "id": "36ec6349-ee83-44a5-859a-0f442654c6f8",
   "metadata": {},
   "outputs": [],
   "source": [
    "import datetime\n",
    "from calendar import monthrange\n",
    "from random import randrange\n",
    "from itertools import chain\n",
    "from functools import reduce\n",
    "\n",
    "from synthetic_data import generate_dataset"
   ]
  },
  {
   "cell_type": "code",
   "execution_count": 6,
   "id": "e4258342-e7e7-4bb1-aa9d-1004d63c9f53",
   "metadata": {},
   "outputs": [],
   "source": [
    "def maximum_plays(dataset: list) -> int:\n",
    "    \"\"\"\n",
    "    Calculates the maximum number of concurrent plays in a given dataset\n",
    "    \n",
    "    Parameter:  dataset, list[dict]\n",
    "                where each dictionary is of the form: {start: datetime.datetime, end: datetime.datetime}\n",
    "                (more details in the README)\n",
    "    \n",
    "    Returns:    maximum number of concurrent plays, int    \n",
    "    \"\"\"\n",
    "    \n",
    "    # Step 1) list[dict] -> list[tuple[tuple]], e.g\n",
    "    #         [{start: 16-02-2022 22:55:00, end: 17-02-2022 01:50:00}, ...] -> \n",
    "    #         [((16-02-2022 22:55:00, 1), (17-02-2022 01:50:00, -1)), ...]\n",
    "    #\n",
    "    #         Where tuple[1] = 1 if it's a start time and -1 if it's an end time\n",
    "    #\n",
    "    # Step 2) Unpack and chain\n",
    "    #         [(16-02-2022 22:55:00, 1), (17-02-2022 01:50:00, -1), ...]\n",
    "    \n",
    "    unpacked_iter = chain(*(((play[\"start\"], 1), (play[\"end\"], -1)) for play in dataset))\n",
    "    \n",
    "    # Sorting the tuples in the list by the datetime\n",
    "    sorted_plays = sorted(unpacked_iter)\n",
    "\n",
    "    # At this point we have a sorted list of tuples consisting of a datetime and an integer\n",
    "    # By sorting them we have constructed a timeline so to speak\n",
    "    # Iterating over them we can maintain a count to determine the concurrent plays\n",
    "    # We then add 1 every time we encounter a start time and -1 off the count every time a play is ended\n",
    "    # The function below does this \n",
    "    \n",
    "    def f(state, play):\n",
    "        state.append(state[-1] + play[1])\n",
    "        return state\n",
    "\n",
    "    # The reduce operation here produces a list of the running total\n",
    "    # Max of that gives us the maximum concurrent runs in the dataset\n",
    "    max_intersect = max(reduce(f, sorted_plays, [0]))\n",
    "\n",
    "    return max_intersect"
   ]
  },
  {
   "cell_type": "code",
   "execution_count": 27,
   "id": "5fcf8593-9e54-4256-ad0a-cc9dbe9005de",
   "metadata": {},
   "outputs": [],
   "source": [
    "n = 1000\n",
    "plays = generate_dataset(n)"
   ]
  },
  {
   "cell_type": "code",
   "execution_count": 28,
   "id": "b1bab57a-d56d-4b3f-adac-b92f176ca905",
   "metadata": {},
   "outputs": [
    {
     "name": "stdout",
     "output_type": "stream",
     "text": [
      "Maximum number of concurrent plays: 19\n"
     ]
    }
   ],
   "source": [
    "print(\"Maximum number of concurrent plays: {}\".format(maximum_plays(plays)))"
   ]
  }
 ],
 "metadata": {
  "kernelspec": {
   "display_name": "Python 3",
   "language": "python",
   "name": "python3"
  },
  "language_info": {
   "codemirror_mode": {
    "name": "ipython",
    "version": 3
   },
   "file_extension": ".py",
   "mimetype": "text/x-python",
   "name": "python",
   "nbconvert_exporter": "python",
   "pygments_lexer": "ipython3",
   "version": "3.8.8"
  }
 },
 "nbformat": 4,
 "nbformat_minor": 5
}
