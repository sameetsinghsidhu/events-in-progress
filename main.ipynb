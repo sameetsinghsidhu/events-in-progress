{
 "cells": [
  {
   "cell_type": "code",
   "execution_count": 1,
   "id": "36ec6349-ee83-44a5-859a-0f442654c6f8",
   "metadata": {},
   "outputs": [],
   "source": [
    "import datetime\n",
    "from calendar import monthrange\n",
    "from random import randrange\n",
    "from itertools import chain\n",
    "from functools import reduce\n",
    "\n",
    "from synthetic_data import generate_dataset\n",
    "from concurrent_play_calculator import maximum_plays"
   ]
  },
  {
   "cell_type": "code",
   "execution_count": 2,
   "id": "cb90c295-13ff-4b1d-bac8-9199f1ad1317",
   "metadata": {},
   "outputs": [
    {
     "name": "stderr",
     "output_type": "stream",
     "text": [
      "test_empty_dataset (__main__.EventsInProgressTestCase)\n",
      "Testing with an empty dataset ... ok\n",
      "test_overlapping_month (__main__.EventsInProgressTestCase)\n",
      "Testing for samples which extend across to the next month ... ok\n",
      "test_overlapping_year (__main__.EventsInProgressTestCase)\n",
      "Testing for samples which extend across to the next year ... ok\n",
      "test_single_sample (__main__.EventsInProgressTestCase)\n",
      "Testing for a dataset consisting of one sample ... ok\n",
      "\n",
      "----------------------------------------------------------------------\n",
      "Ran 4 tests in 0.003s\n",
      "\n",
      "OK\n"
     ]
    }
   ],
   "source": [
    "%run -i 'algorithm_unittest.py'"
   ]
  },
  {
   "cell_type": "code",
   "execution_count": 3,
   "id": "90a203f7-9beb-41c0-8f7a-804c27e19690",
   "metadata": {},
   "outputs": [
    {
     "name": "stderr",
     "output_type": "stream",
     "text": [
      "test_empty_dataset (__main__.EventsInProgressTestCase)\n",
      "Testing with an empty dataset ... ok\n",
      "test_overlapping_month (__main__.EventsInProgressTestCase)\n",
      "Testing for samples which extend across to the next month ... ok\n",
      "test_overlapping_year (__main__.EventsInProgressTestCase)\n",
      "Testing for samples which extend across to the next year ... ok\n",
      "test_single_sample (__main__.EventsInProgressTestCase)\n",
      "Testing for a dataset consisting of one sample ... ok\n",
      "test_correct_datatypes (__main__.SyntheticDataGeneratorTestCase)\n",
      "This function should return a list of dictionaries which contain datetime objects for the start ... ok\n",
      "test_end_after_start (__main__.SyntheticDataGeneratorTestCase)\n",
      "Testing if the end datetimes are after the start. We run this for about 10000 samples ... ok\n",
      "test_generating_correct_amount_of_samples (__main__.SyntheticDataGeneratorTestCase)\n",
      "The generate_dataset function takes one parameter n. In this test we check if the function ... ok\n",
      "\n",
      "----------------------------------------------------------------------\n",
      "Ran 7 tests in 0.105s\n",
      "\n",
      "OK\n"
     ]
    }
   ],
   "source": [
    "%run -i 'data_generator_unittest.py'"
   ]
  },
  {
   "cell_type": "code",
   "execution_count": 4,
   "id": "b1d7f233-cd23-4e61-9225-0c5b3f12145c",
   "metadata": {},
   "outputs": [
    {
     "name": "stdout",
     "output_type": "stream",
     "text": [
      "Maximum number of concurrent plays: 5\n"
     ]
    }
   ],
   "source": [
    "n = 100\n",
    "plays = generate_dataset(n)\n",
    "\n",
    "print(\"Maximum number of concurrent plays: {}\".format(maximum_plays(plays)))"
   ]
  }
 ],
 "metadata": {
  "kernelspec": {
   "display_name": "Python 3",
   "language": "python",
   "name": "python3"
  },
  "language_info": {
   "codemirror_mode": {
    "name": "ipython",
    "version": 3
   },
   "file_extension": ".py",
   "mimetype": "text/x-python",
   "name": "python",
   "nbconvert_exporter": "python",
   "pygments_lexer": "ipython3",
   "version": "3.8.8"
  }
 },
 "nbformat": 4,
 "nbformat_minor": 5
}
